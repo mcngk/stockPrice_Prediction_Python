{
 "cells": [
  {
   "cell_type": "markdown",
   "metadata": {},
   "source": [
    "# Stock Price Prediction"
   ]
  },
  {
   "cell_type": "markdown",
   "metadata": {},
   "source": [
    "As far as stock market predictions are concerned, there is never a right answer.\n",
    "\n",
    "Our objective is to make a *Stock Market Prediction* using currently available machine learning algorithms and methodologies*.\n",
    "\n",
    "Developed by Mustafa Can Gök.\n",
    "<br/>"
   ]
  },
  {
   "cell_type": "markdown",
   "metadata": {},
   "source": [
    "### Getting started:\n",
    "\n",
    "For this project, I will use the follwing Machine Learning model:\n",
    "- Support Vector Machine\n",
    "\n",
    "For our data, I will use:\n",
    "- Yahoo Finance API"
   ]
  },
  {
   "cell_type": "markdown",
   "metadata": {},
   "source": [
    "#### Libraries"
   ]
  },
  {
   "cell_type": "code",
   "execution_count": 46,
   "metadata": {},
   "outputs": [
    {
     "name": "stdout",
     "output_type": "stream",
     "text": [
      "[Success]\n"
     ]
    }
   ],
   "source": [
    "# DATA PREPROCESSING/MANIPULATION\n",
    "import pandas as pd\n",
    "import numpy as np\n",
    "\n",
    "# VISUALIZATION\n",
    "import matplotlib.pyplot as plt\n",
    "import seaborn as sns\n",
    "\n",
    "# STOCK DATA FROM YAHOO FINANCE\n",
    "import yfinance as yf\n",
    "\n",
    "# SUPPORT VECTOR MACHINE MODEL\n",
    "from sklearn.svm import SVC\n",
    "from sklearn.metrics import accuracy_score, precision_score\n",
    "from sklearn.model_selection import train_test_split\n",
    "\n",
    "\n",
    "\n",
    "print('[Success]')"
   ]
  },
  {
   "cell_type": "markdown",
   "metadata": {},
   "source": [
    "### Download the data from the Yahoo Finance API\n",
    "\n",
    "Now that we have our libraries imported, we can download the data we need. \n",
    "\n",
    "For this specific project, I will be using **AMAZON**'s stock data.\n",
    "\n",
    "\n",
    "\n",
    "#### How to download data?\n",
    "The beauty of our imported library **Yahoo Finance API** is that there is a build in method called *download()* that will allow us to get our data.\n",
    "\n",
    "\n",
    "Example usage:\n",
    "\n",
    "    yf.download('TICKER NAME',  (In our case AMZN)\n",
    "\n",
    "            start = 'DATE',     \n",
    "                                (Data can be downloaded as far back as 1950)\n",
    "            end = 'DATE', \n",
    "            \n",
    "            progress = T/F)"
   ]
  },
  {
   "cell_type": "code",
   "execution_count": 8,
   "metadata": {},
   "outputs": [
    {
     "name": "stdout",
     "output_type": "stream",
     "text": [
      "[Sucess]\n"
     ]
    }
   ],
   "source": [
    "# DOWNLOAD OUR DATA FOR AMAZON\n",
    "df_amazon = yf.download('AMZN', # THIS CAN BE CHANGED\n",
    "                        start = '1997-05-16',  \n",
    "                        end = '2021-05-14',  \n",
    "                       progress = False)\n",
    "\n",
    "print('[Sucess]')"
   ]
  },
  {
   "cell_type": "markdown",
   "metadata": {},
   "source": [
    "#### Before we being any analysis, lets look at our data and see what we are working with"
   ]
  },
  {
   "cell_type": "code",
   "execution_count": 10,
   "metadata": {},
   "outputs": [
    {
     "data": {
      "text/plain": [
       "<bound method NDFrame.describe of                    Open         High          Low        Close    Adj Close  \\\n",
       "Date                                                                          \n",
       "1997-05-16     1.968750     1.979167     1.708333     1.729167     1.729167   \n",
       "1997-05-19     1.760417     1.770833     1.625000     1.708333     1.708333   \n",
       "1997-05-20     1.729167     1.750000     1.635417     1.635417     1.635417   \n",
       "1997-05-21     1.635417     1.645833     1.375000     1.427083     1.427083   \n",
       "1997-05-22     1.437500     1.447917     1.312500     1.395833     1.395833   \n",
       "...                 ...          ...          ...          ...          ...   \n",
       "2021-05-10  3282.320068  3283.000000  3190.000000  3190.489990  3190.489990   \n",
       "2021-05-11  3136.280029  3238.000000  3127.370117  3223.909912  3223.909912   \n",
       "2021-05-12  3185.000000  3207.939941  3133.100098  3151.939941  3151.939941   \n",
       "2021-05-13  3185.469971  3203.840088  3133.000000  3161.469971  3161.469971   \n",
       "2021-05-14  3185.560059  3228.860107  3183.000000  3222.899902  3222.899902   \n",
       "\n",
       "              Volume  \n",
       "Date                  \n",
       "1997-05-16  14700000  \n",
       "1997-05-19   6106800  \n",
       "1997-05-20   5467200  \n",
       "1997-05-21  18853200  \n",
       "1997-05-22  11776800  \n",
       "...              ...  \n",
       "2021-05-10   5838600  \n",
       "2021-05-11   4619800  \n",
       "2021-05-12   4936400  \n",
       "2021-05-13   3350900  \n",
       "2021-05-14   3325000  \n",
       "\n",
       "[6039 rows x 6 columns]>"
      ]
     },
     "execution_count": 10,
     "metadata": {},
     "output_type": "execute_result"
    }
   ],
   "source": [
    "# Use desscribe() method to look at our data\n",
    "df_amazon.describe"
   ]
  },
  {
   "cell_type": "code",
   "execution_count": 11,
   "metadata": {},
   "outputs": [
    {
     "name": "stdout",
     "output_type": "stream",
     "text": [
      "<class 'pandas.core.frame.DataFrame'>\n",
      "DatetimeIndex: 6039 entries, 1997-05-16 to 2021-05-14\n",
      "Data columns (total 6 columns):\n",
      " #   Column     Non-Null Count  Dtype  \n",
      "---  ------     --------------  -----  \n",
      " 0   Open       6039 non-null   float64\n",
      " 1   High       6039 non-null   float64\n",
      " 2   Low        6039 non-null   float64\n",
      " 3   Close      6039 non-null   float64\n",
      " 4   Adj Close  6039 non-null   float64\n",
      " 5   Volume     6039 non-null   int64  \n",
      "dtypes: float64(5), int64(1)\n",
      "memory usage: 330.3 KB\n"
     ]
    }
   ],
   "source": [
    "# USE info() METHOD TO SEE OUR COLUMN DATA TYPES\n",
    "df_amazon.info()"
   ]
  },
  {
   "cell_type": "code",
   "execution_count": 12,
   "metadata": {},
   "outputs": [
    {
     "data": {
      "text/html": [
       "<div>\n",
       "<style scoped>\n",
       "    .dataframe tbody tr th:only-of-type {\n",
       "        vertical-align: middle;\n",
       "    }\n",
       "\n",
       "    .dataframe tbody tr th {\n",
       "        vertical-align: top;\n",
       "    }\n",
       "\n",
       "    .dataframe thead th {\n",
       "        text-align: right;\n",
       "    }\n",
       "</style>\n",
       "<table border=\"1\" class=\"dataframe\">\n",
       "  <thead>\n",
       "    <tr style=\"text-align: right;\">\n",
       "      <th></th>\n",
       "      <th>Open</th>\n",
       "      <th>High</th>\n",
       "      <th>Low</th>\n",
       "      <th>Close</th>\n",
       "      <th>Adj Close</th>\n",
       "      <th>Volume</th>\n",
       "    </tr>\n",
       "    <tr>\n",
       "      <th>Date</th>\n",
       "      <th></th>\n",
       "      <th></th>\n",
       "      <th></th>\n",
       "      <th></th>\n",
       "      <th></th>\n",
       "      <th></th>\n",
       "    </tr>\n",
       "  </thead>\n",
       "  <tbody>\n",
       "    <tr>\n",
       "      <th>1997-05-16</th>\n",
       "      <td>1.968750</td>\n",
       "      <td>1.979167</td>\n",
       "      <td>1.708333</td>\n",
       "      <td>1.729167</td>\n",
       "      <td>1.729167</td>\n",
       "      <td>14700000</td>\n",
       "    </tr>\n",
       "    <tr>\n",
       "      <th>1997-05-19</th>\n",
       "      <td>1.760417</td>\n",
       "      <td>1.770833</td>\n",
       "      <td>1.625000</td>\n",
       "      <td>1.708333</td>\n",
       "      <td>1.708333</td>\n",
       "      <td>6106800</td>\n",
       "    </tr>\n",
       "    <tr>\n",
       "      <th>1997-05-20</th>\n",
       "      <td>1.729167</td>\n",
       "      <td>1.750000</td>\n",
       "      <td>1.635417</td>\n",
       "      <td>1.635417</td>\n",
       "      <td>1.635417</td>\n",
       "      <td>5467200</td>\n",
       "    </tr>\n",
       "    <tr>\n",
       "      <th>1997-05-21</th>\n",
       "      <td>1.635417</td>\n",
       "      <td>1.645833</td>\n",
       "      <td>1.375000</td>\n",
       "      <td>1.427083</td>\n",
       "      <td>1.427083</td>\n",
       "      <td>18853200</td>\n",
       "    </tr>\n",
       "    <tr>\n",
       "      <th>1997-05-22</th>\n",
       "      <td>1.437500</td>\n",
       "      <td>1.447917</td>\n",
       "      <td>1.312500</td>\n",
       "      <td>1.395833</td>\n",
       "      <td>1.395833</td>\n",
       "      <td>11776800</td>\n",
       "    </tr>\n",
       "  </tbody>\n",
       "</table>\n",
       "</div>"
      ],
      "text/plain": [
       "                Open      High       Low     Close  Adj Close    Volume\n",
       "Date                                                                   \n",
       "1997-05-16  1.968750  1.979167  1.708333  1.729167   1.729167  14700000\n",
       "1997-05-19  1.760417  1.770833  1.625000  1.708333   1.708333   6106800\n",
       "1997-05-20  1.729167  1.750000  1.635417  1.635417   1.635417   5467200\n",
       "1997-05-21  1.635417  1.645833  1.375000  1.427083   1.427083  18853200\n",
       "1997-05-22  1.437500  1.447917  1.312500  1.395833   1.395833  11776800"
      ]
     },
     "execution_count": 12,
     "metadata": {},
     "output_type": "execute_result"
    }
   ],
   "source": [
    "# USE .head() TO VIEW FIRST 5 ROWS OF THE AMAZON DATAFRAME\n",
    "df_amazon.head()"
   ]
  },
  {
   "cell_type": "markdown",
   "metadata": {},
   "source": [
    "## Whats next?\n",
    "\n",
    "\n",
    "There are a few things we must accomplish because this is a predictive analysis.\n",
    "Modify our data frame such that it only contains the *Adj Close* values.\n",
    "\n",
    "\n",
    "To predict the number of days ahead, create a variable whose value is subject to change.\n",
    "    \n",
    "    \n",
    "Make a new column called \"Stock Prediction,\" which will serve as our \"TARGET Variable.\""
   ]
  },
  {
   "cell_type": "code",
   "execution_count": 14,
   "metadata": {},
   "outputs": [
    {
     "data": {
      "text/html": [
       "<div>\n",
       "<style scoped>\n",
       "    .dataframe tbody tr th:only-of-type {\n",
       "        vertical-align: middle;\n",
       "    }\n",
       "\n",
       "    .dataframe tbody tr th {\n",
       "        vertical-align: top;\n",
       "    }\n",
       "\n",
       "    .dataframe thead th {\n",
       "        text-align: right;\n",
       "    }\n",
       "</style>\n",
       "<table border=\"1\" class=\"dataframe\">\n",
       "  <thead>\n",
       "    <tr style=\"text-align: right;\">\n",
       "      <th></th>\n",
       "      <th>Adj Close</th>\n",
       "    </tr>\n",
       "    <tr>\n",
       "      <th>Date</th>\n",
       "      <th></th>\n",
       "    </tr>\n",
       "  </thead>\n",
       "  <tbody>\n",
       "    <tr>\n",
       "      <th>1997-05-16</th>\n",
       "      <td>1.729167</td>\n",
       "    </tr>\n",
       "    <tr>\n",
       "      <th>1997-05-19</th>\n",
       "      <td>1.708333</td>\n",
       "    </tr>\n",
       "    <tr>\n",
       "      <th>1997-05-20</th>\n",
       "      <td>1.635417</td>\n",
       "    </tr>\n",
       "    <tr>\n",
       "      <th>1997-05-21</th>\n",
       "      <td>1.427083</td>\n",
       "    </tr>\n",
       "    <tr>\n",
       "      <th>1997-05-22</th>\n",
       "      <td>1.395833</td>\n",
       "    </tr>\n",
       "  </tbody>\n",
       "</table>\n",
       "</div>"
      ],
      "text/plain": [
       "            Adj Close\n",
       "Date                 \n",
       "1997-05-16   1.729167\n",
       "1997-05-19   1.708333\n",
       "1997-05-20   1.635417\n",
       "1997-05-21   1.427083\n",
       "1997-05-22   1.395833"
      ]
     },
     "execution_count": 14,
     "metadata": {},
     "output_type": "execute_result"
    }
   ],
   "source": [
    "# ADJUST OUR DATA FRAME\n",
    "stockPrediction_df = df_amazon[['Adj Close']]\n",
    "stockPrediction_df.head()"
   ]
  },
  {
   "cell_type": "code",
   "execution_count": 15,
   "metadata": {},
   "outputs": [],
   "source": [
    "# CREATE VARIABLE FOR NUM OF DAYS OUT TO PREDICT\n",
    "num_days = 15"
   ]
  },
  {
   "cell_type": "code",
   "execution_count": 29,
   "metadata": {},
   "outputs": [
    {
     "name": "stderr",
     "output_type": "stream",
     "text": [
      "<ipython-input-29-01276f2eacec>:2: SettingWithCopyWarning: \n",
      "A value is trying to be set on a copy of a slice from a DataFrame.\n",
      "Try using .loc[row_indexer,col_indexer] = value instead\n",
      "\n",
      "See the caveats in the documentation: https://pandas.pydata.org/pandas-docs/stable/user_guide/indexing.html#returning-a-view-versus-a-copy\n",
      "  stockPrediction_df['Stock Prediction'] = stockPrediction_df.loc[:,'Adj Close'].shift(-num_days)\n"
     ]
    },
    {
     "data": {
      "text/html": [
       "<div>\n",
       "<style scoped>\n",
       "    .dataframe tbody tr th:only-of-type {\n",
       "        vertical-align: middle;\n",
       "    }\n",
       "\n",
       "    .dataframe tbody tr th {\n",
       "        vertical-align: top;\n",
       "    }\n",
       "\n",
       "    .dataframe thead th {\n",
       "        text-align: right;\n",
       "    }\n",
       "</style>\n",
       "<table border=\"1\" class=\"dataframe\">\n",
       "  <thead>\n",
       "    <tr style=\"text-align: right;\">\n",
       "      <th></th>\n",
       "      <th>Adj Close</th>\n",
       "      <th>Stock Prediction</th>\n",
       "    </tr>\n",
       "    <tr>\n",
       "      <th>Date</th>\n",
       "      <th></th>\n",
       "      <th></th>\n",
       "    </tr>\n",
       "  </thead>\n",
       "  <tbody>\n",
       "    <tr>\n",
       "      <th>1997-05-16</th>\n",
       "      <td>1.729167</td>\n",
       "      <td>1.687500</td>\n",
       "    </tr>\n",
       "    <tr>\n",
       "      <th>1997-05-19</th>\n",
       "      <td>1.708333</td>\n",
       "      <td>1.583333</td>\n",
       "    </tr>\n",
       "    <tr>\n",
       "      <th>1997-05-20</th>\n",
       "      <td>1.635417</td>\n",
       "      <td>1.541667</td>\n",
       "    </tr>\n",
       "    <tr>\n",
       "      <th>1997-05-21</th>\n",
       "      <td>1.427083</td>\n",
       "      <td>1.604167</td>\n",
       "    </tr>\n",
       "    <tr>\n",
       "      <th>1997-05-22</th>\n",
       "      <td>1.395833</td>\n",
       "      <td>1.583333</td>\n",
       "    </tr>\n",
       "  </tbody>\n",
       "</table>\n",
       "</div>"
      ],
      "text/plain": [
       "            Adj Close  Stock Prediction\n",
       "Date                                   \n",
       "1997-05-16   1.729167          1.687500\n",
       "1997-05-19   1.708333          1.583333\n",
       "1997-05-20   1.635417          1.541667\n",
       "1997-05-21   1.427083          1.604167\n",
       "1997-05-22   1.395833          1.583333"
      ]
     },
     "execution_count": 29,
     "metadata": {},
     "output_type": "execute_result"
    }
   ],
   "source": [
    "# CREATE NEW COLUMN TO HOLD OUR STOCK PREDICTION\n",
    "stockPrediction_df['Stock Prediction'] = stockPrediction_df.loc[:,'Adj Close'].shift(-num_days)\n",
    "stockPrediction_df.head()"
   ]
  },
  {
   "cell_type": "code",
   "execution_count": 30,
   "metadata": {},
   "outputs": [
    {
     "data": {
      "text/plain": [
       "<AxesSubplot:xlabel='Date'>"
      ]
     },
     "execution_count": 30,
     "metadata": {},
     "output_type": "execute_result"
    },
    {
     "data": {
      "image/png": "[encoded data removed]",
      "text/plain": [
       "<Figure size 432x288 with 1 Axes>"
      ]
     },
     "metadata": {
      "needs_background": "light"
     },
     "output_type": "display_data"
    }
   ],
   "source": [
    "# LETS PLOT OUR NEW DATAFRAME TO VISUALIZE THE DIFFERENCE\n",
    "sns.lineplot(data = stockPrediction_df)"
   ]
  },
  {
   "cell_type": "markdown",
   "metadata": {},
   "source": [
    "# Preparing our data for modeling\n",
    "\n",
    "Now that we have our target variable, we can start preparing our data.\n",
    "\n",
    "\n",
    "For this section, we will do a few things:\n",
    "- Create an independent dataset to train our models\n",
    "    - This will be done using numpy array\n",
    "    \n",
    "\n",
    "- Create a dependent dataset (TARGET DATA)\n",
    "    - This will be done using numpy array\n",
    "    \n",
    "    \n",
    "- We then will set up our Train and Test split\n",
    "\n",
    "\n",
    "- Create our models"
   ]
  },
  {
   "cell_type": "markdown",
   "metadata": {},
   "source": [
    "#### INDEPENDENT DATASET\n",
    "1. Convert dataframe to numpy array using only the *Adj Close* column\n",
    "2. Remove last *n* rows (number of days out)\n",
    "3. Make sure there are no NaN values"
   ]
  },
  {
   "cell_type": "code",
   "execution_count": 100,
   "metadata": {},
   "outputs": [],
   "source": [
    "np.set_printoptions(suppress=False)"
   ]
  },
  {
   "cell_type": "code",
   "execution_count": 101,
   "metadata": {},
   "outputs": [
    {
     "name": "stdout",
     "output_type": "stream",
     "text": [
      "[[1.72916698e+00]\n",
      " [1.70833302e+00]\n",
      " [1.63541698e+00]\n",
      " ...\n",
      " [3.36202002e+03]\n",
      " [3.30904004e+03]\n",
      " [3.34087988e+03]]\n",
      "False\n"
     ]
    }
   ],
   "source": [
    "X_data = np.array(stockPrediction_df.drop(['Stock Prediction'], 1))\n",
    "\n",
    "X_data = X_data[:-num_days]\n",
    "print(X_data)\n",
    "print(np.isnan(X_data).any())"
   ]
  },
  {
   "cell_type": "markdown",
   "metadata": {},
   "source": [
    "#### DEPENDENT DATASET\n",
    "1. Convert dataframe to numpy array using only the *Stock Prediction* column\n",
    "2. Remove last *n* rows (number of days out)\n",
    "3. Make sure there are no NaN values"
   ]
  },
  {
   "cell_type": "code",
   "execution_count": 102,
   "metadata": {},
   "outputs": [
    {
     "name": "stdout",
     "output_type": "stream",
     "text": [
      "[1.68750000e+00 1.58333302e+00 1.54166698e+00 ... 3.15193994e+03\n",
      " 3.16146997e+03 3.22289990e+03]\n",
      "False\n"
     ]
    }
   ],
   "source": [
    "Y_data = np.array(stockPrediction_df['Stock Prediction'])\n",
    "\n",
    "Y_data = Y_data[:-num_days]\n",
    "\n",
    "\n",
    "print(Y_data)\n",
    "print(np.isnan(Y_data).any())"
   ]
  },
  {
   "cell_type": "markdown",
   "metadata": {},
   "source": [
    "#### Setting up our Train/Test Split\n",
    "1. X_data, Y_data &rarr; datasets we are using\n",
    "2. test_size will be split in 80% training and 20% testing"
   ]
  },
  {
   "cell_type": "code",
   "execution_count": 96,
   "metadata": {},
   "outputs": [
    {
     "name": "stdout",
     "output_type": "stream",
     "text": [
      "[Success]\n"
     ]
    }
   ],
   "source": [
    "x_train, x_test, y_train, y_test = train_test_split(X_data, Y_data, test_size = 0.2)\n",
    "print('[Success]')"
   ]
  },
  {
   "cell_type": "markdown",
   "metadata": {},
   "source": [
    "# Modeling Time\n",
    "\n",
    "\n",
    "For this portion of the project, we will be using a \n",
    "**Support Vector Machine Model**.\n",
    "\n",
    "<br/>\n",
    "\n"
   ]
  },
  {
   "cell_type": "markdown",
   "metadata": {},
   "source": [
    "## Support Vector Machine Setup\n",
    "<br/>\n",
    " \n",
    "**We will then Get our score of the SVM Regression model**\n",
    "\n",
    "SCORE will return the coefficient of determination of $R^2$ of the prediction.\n",
    "\n",
    "\n",
    "This will also take in 2 parameters .score(1, 2). Same as above. Expecpt, this time we use our testing datasets.\n",
    "\n",
    "\n",
    "We will choose the best combination to create our predictions"
   ]
  },
  {
   "cell_type": "markdown",
   "metadata": {},
   "source": [
    "### Create our classifier"
   ]
  },
  {
   "cell_type": "code",
   "execution_count": 156,
   "metadata": {},
   "outputs": [
    {
     "name": "stdout",
     "output_type": "stream",
     "text": [
      "\t\tC Value: 0.1\n",
      "Gamma Value: 0.01 :: SVC Classifier Score: -0.20231419191947242\n",
      "Gamma Value: 0.001 :: SVC Classifier Score: -0.1435090877024201\n",
      "Gamma Value: 0.0001 :: SVC Classifier Score: -0.07681739626049366\n",
      "Gamma Value: 1e-05 :: SVC Classifier Score: -0.035778183309415956\n",
      "Gamma Value: 1e-06 :: SVC Classifier Score: -0.08205909536404543\n",
      "Gamma Value: 1e-07 :: SVC Classifier Score: -0.17068271537265645\n",
      "\t\tC Value: 1.0\n",
      "Gamma Value: 0.01 :: SVC Classifier Score: -0.023407247659522845\n",
      "Gamma Value: 0.001 :: SVC Classifier Score: 0.11175518128616047\n",
      "Gamma Value: 0.0001 :: SVC Classifier Score: 0.3259609013820368\n",
      "Gamma Value: 1e-05 :: SVC Classifier Score: 0.5237791764455719\n",
      "Gamma Value: 1e-06 :: SVC Classifier Score: 0.6373802211302526\n",
      "Gamma Value: 1e-07 :: SVC Classifier Score: 0.345685915846368\n",
      "\t\tC Value: 10.0\n",
      "Gamma Value: 0.01 :: SVC Classifier Score: 0.3811268012547173\n",
      "Gamma Value: 0.001 :: SVC Classifier Score: 0.657439425742183\n",
      "Gamma Value: 0.0001 :: SVC Classifier Score: 0.8475493552533069\n",
      "Gamma Value: 1e-05 :: SVC Classifier Score: 0.9741351463087954\n",
      "Gamma Value: 1e-06 :: SVC Classifier Score: 0.9933650364215681\n",
      "Gamma Value: 1e-07 :: SVC Classifier Score: 0.978663166905115\n",
      "\t\tC Value: 100.0\n",
      "Gamma Value: 0.01 :: SVC Classifier Score: 0.8647293933852851\n",
      "Gamma Value: 0.001 :: SVC Classifier Score: 0.980492707747049\n",
      "Gamma Value: 0.0001 :: SVC Classifier Score: 0.9955534002831937\n",
      "Gamma Value: 1e-05 :: SVC Classifier Score: 0.9962342955006949\n",
      "Gamma Value: 1e-06 :: SVC Classifier Score: 0.9957679273106393\n",
      "Gamma Value: 1e-07 :: SVC Classifier Score: 0.993840020010392\n",
      "\t\tC Value: 1000.0\n",
      "Gamma Value: 0.01 :: SVC Classifier Score: 0.9926938149909172\n",
      "Gamma Value: 0.001 :: SVC Classifier Score: 0.9963437496138507\n",
      "Gamma Value: 0.0001 :: SVC Classifier Score: 0.9966582694942029\n",
      "Gamma Value: 1e-05 :: SVC Classifier Score: 0.9964375615179003\n",
      "Gamma Value: 1e-06 :: SVC Classifier Score: 0.9959130027066913\n",
      "Gamma Value: 1e-07 :: SVC Classifier Score: 0.9947212858760451\n"
     ]
    }
   ],
   "source": [
    "scores = []\n",
    "for C in c_value:\n",
    "    print(f'\\t\\tC Value: {C}')\n",
    "    for gamma in gamma_Values:\n",
    "        svc_Classifier = SVR(kernel = 'rbf', C = C, gamma = gamma)\n",
    "        svc_Classifier_fit = svc_Classifier.fit(x_train, y_train)\n",
    "        svc_Classifier_score = svc_Classifier_fit.score(x_test, y_test)\n",
    "        scores.append(svc_Classifier_score)\n",
    "        print(f'Gamma Value: {gamma} :: SVC Classifier Score: {svc_Classifier_score}')"
   ]
  },
  {
   "cell_type": "markdown",
   "metadata": {},
   "source": [
    "**What do we notice?**\n",
    "\n",
    "\n",
    "We see that when C value is 1000.0, we get the better scores.\n",
    "\n",
    "\n",
    "From here, we can choose the C value with the appropriate gamma value and create our predictions\n",
    "\n",
    "\n",
    "In this case, we choose the following:\n",
    "- C: 1000.0\n",
    "- gamma: 0.0001"
   ]
  },
  {
   "cell_type": "code",
   "execution_count": 169,
   "metadata": {},
   "outputs": [],
   "source": [
    "best_svc_Classifier = SVR(kernel = 'rbf', C = 1000.0, gamma = 0.0001)\n",
    "best_svc_Classifier_fit = best_svc_Classifier.fit(x_train, y_train)\n",
    "best_svc_Classifier_score = best_svc_Classifier_fit.score(x_test, y_test)"
   ]
  },
  {
   "cell_type": "markdown",
   "metadata": {},
   "source": [
    "### Observations\n",
    "\n",
    "\n",
    "We see that our score is 0.96 out of a possible 1.\n",
    "\n",
    "This is good, though in some cases it is considered low, but we can move on to creating some predictions for the Stock Price of Amazon\n",
    "\n",
    "<br/>"
   ]
  },
  {
   "cell_type": "markdown",
   "metadata": {},
   "source": [
    "We will do a couple things:\n",
    "\n",
    "- Take our ```num_days``` rows of data from the data frame of the Adj Close price.\n",
    "\n",
    "\n",
    "- Store this into a np.array\n",
    "\n",
    "\n",
    "- Drop our ```'Stock Prediction'``` column "
   ]
  },
  {
   "cell_type": "code",
   "execution_count": 170,
   "metadata": {},
   "outputs": [],
   "source": [
    "stock_Price_Prediction = np.array(stockPrediction_df.drop(['Stock Prediction'], 1))[-num_days:]"
   ]
  },
  {
   "cell_type": "code",
   "execution_count": 137,
   "metadata": {},
   "outputs": [],
   "source": [
    "# print(stock_Price_Prediction)"
   ]
  },
  {
   "cell_type": "markdown",
   "metadata": {},
   "source": [
    "Now, we can print the future price of predictions of Amazon stock price for the next ```num_days``` (15)."
   ]
  },
  {
   "cell_type": "code",
   "execution_count": 171,
   "metadata": {},
   "outputs": [],
   "source": [
    "best_svc_Classifier_prediction = best_svc_Classifier_fit.predict(stock_Price_Prediction)"
   ]
  },
  {
   "cell_type": "markdown",
   "metadata": {},
   "source": [
    "### Stock Price Predictions\n",
    "\n",
    "\n",
    "\n",
    "```note: this is for price during the time: 10/25/2021 - num_days```"
   ]
  },
  {
   "cell_type": "markdown",
   "metadata": {},
   "source": [
    "### The following is the price prediction for the next 15 days"
   ]
  },
  {
   "cell_type": "code",
   "execution_count": 172,
   "metadata": {},
   "outputs": [
    {
     "name": "stdout",
     "output_type": "stream",
     "text": [
      "\t| Stock Price: $3116.55 |\n",
      "\t  --------------------\n",
      "\t| Stock Price: $3097.92 |\n",
      "\t  --------------------\n",
      "\t| Stock Price: $3031.01 |\n",
      "\t  --------------------\n",
      "\t| Stock Price: $3021.73 |\n",
      "\t  --------------------\n",
      "\t| Stock Price: $3024.18 |\n",
      "\t  --------------------\n",
      "\t| Stock Price: $3160.62 |\n",
      "\t  --------------------\n",
      "\t| Stock Price: $3168.1 |\n",
      "\t  --------------------\n",
      "\t| Stock Price: $3172.84 |\n",
      "\t  --------------------\n",
      "\t| Stock Price: $3166.63 |\n",
      "\t  --------------------\n",
      "\t| Stock Price: $3166.21 |\n",
      "\t  --------------------\n",
      "\t| Stock Price: $3179.58 |\n",
      "\t  --------------------\n",
      "\t| Stock Price: $3183.07 |\n",
      "\t  --------------------\n",
      "\t| Stock Price: $3189.64 |\n",
      "\t  --------------------\n",
      "\t| Stock Price: $3185.4 |\n",
      "\t  --------------------\n",
      "\t| Stock Price: $3182.98 |\n",
      "\t  --------------------\n"
     ]
    }
   ],
   "source": [
    "for i in best_svc_Classifier_prediction:\n",
    "    print(f'\\t| Stock Price: ${round(i, 2)} |\\n\\t  --------------------')"
   ]
  },
  {
   "cell_type": "code",
   "execution_count": null,
   "metadata": {},
   "outputs": [],
   "source": []
  }
 ],
 "metadata": {
  "kernelspec": {
   "display_name": "Python 3",
   "language": "python",
   "name": "python3"
  },
  "language_info": {
   "codemirror_mode": {
    "name": "ipython",
    "version": 3
   },
   "file_extension": ".py",
   "mimetype": "text/x-python",
   "name": "python",
   "nbconvert_exporter": "python",
   "pygments_lexer": "ipython3",
   "version": "3.12.1"
  }
 },
 "nbformat": 4,
 "nbformat_minor": 4
}
